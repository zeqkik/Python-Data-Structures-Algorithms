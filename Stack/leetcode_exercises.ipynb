{
 "cells": [
  {
   "cell_type": "code",
   "execution_count": 1,
   "metadata": {},
   "outputs": [],
   "source": [
    "class Stack:\n",
    "    def __init__(self):\n",
    "        self.stack_list = []\n",
    "\n",
    "    def print_stack(self):\n",
    "        for i in range(len(self.stack_list)-1, -1, -1):\n",
    "            print(self.stack_list[i])\n",
    "\n",
    "    def is_empty(self):\n",
    "        return len(self.stack_list) == 0\n",
    "\n",
    "    def peek(self):\n",
    "        if self.is_empty():\n",
    "            return None\n",
    "        else:\n",
    "            return self.stack_list[-1]\n",
    "\n",
    "    def size(self):\n",
    "        return len(self.stack_list)\n",
    "\n",
    "    def push(self, value):\n",
    "        self.stack_list.append(value)\n",
    "\n",
    "    def pop(self):\n",
    "        if self.is_empty():\n",
    "            return None\n",
    "        else:\n",
    "            return self.stack_list.pop()"
   ]
  },
  {
   "cell_type": "code",
   "execution_count": 5,
   "metadata": {},
   "outputs": [
    {
     "data": {
      "text/plain": [
       "3"
      ]
     },
     "execution_count": 5,
     "metadata": {},
     "output_type": "execute_result"
    }
   ],
   "source": [
    "stack = Stack()\n",
    "stack.push(1)\n",
    "stack.push(2)\n",
    "stack.push(3)\n",
    "stack.size()"
   ]
  },
  {
   "cell_type": "markdown",
   "metadata": {},
   "source": [
    "## Stack: Parentheses Balanced ##\n",
    "Check to see if a string of parentheses is balanced or not.\n",
    "\n",
    "By \"balanced,\" we mean that for every open parenthesis, there is a matching closing parenthesis in the correct order. For example, the string \"((()))\" has three pairs of balanced parentheses, so it is a balanced string. On the other hand, the string \"(()))\" has an imbalance, as the last two parentheses do not match, so it is not balanced.  Also, the string \")(\" is not balanced because the close parenthesis needs to follow the open parenthesis.\n",
    "\n",
    "Your program should take a string of parentheses as input and return True if it is balanced, or False if it is not. In order to solve this problem, use a Stack data structure"
   ]
  },
  {
   "cell_type": "code",
   "execution_count": 29,
   "metadata": {},
   "outputs": [],
   "source": [
    "def is_balanced_parentheses(string):\n",
    "    stack = Stack()\n",
    "    if(len(string) == 0):\n",
    "        return True\n",
    "    if(len(string) < 2):\n",
    "        return False\n",
    "    for char in string:\n",
    "        if(stack.size() == 0):\n",
    "            stack.push(char)\n",
    "        else:\n",
    "            if(stack.peek() == \"(\" and char == \")\"):\n",
    "                stack.pop()\n",
    "            else:\n",
    "                stack.push(char)\n",
    "    if(stack.size() > 0):\n",
    "        return False\n",
    "    return True"
   ]
  },
  {
   "cell_type": "markdown",
   "metadata": {},
   "source": [
    "## Stack: Reverse String ##\n",
    "\n",
    "The reverse_string function takes a single parameter string, which is the string you want to reverse.\n",
    "\n",
    "Return a new string with the letters in reverse order.\n",
    "\n",
    "This will use the Stack class we created in the last three coding exercises:\n"
   ]
  },
  {
   "cell_type": "code",
   "execution_count": 31,
   "metadata": {},
   "outputs": [],
   "source": [
    "def reverse_string(string):\n",
    "    stack = Stack()\n",
    "    reversed_str = \"\"\n",
    "    for char in string:\n",
    "        stack.push(char)\n",
    "    while(stack.is_empty() == False):\n",
    "        reversed_str += stack.pop()\n",
    "    return reversed_str"
   ]
  },
  {
   "cell_type": "markdown",
   "metadata": {},
   "source": [
    "## Stack: Sort Stack ##\n",
    "The sort_stack function takes a single argument, a Stack object.  The function should sort the elements in the stack in ascending order (the lowest value will be at the top of the stack) using only one additional stack. "
   ]
  },
  {
   "cell_type": "code",
   "execution_count": 32,
   "metadata": {},
   "outputs": [],
   "source": [
    "def sort_stack(stack):\n",
    "    if(stack.is_empty()):\n",
    "        return True\n",
    "    sorted_stack = Stack()\n",
    "    sorted_stack.push(stack.pop())\n",
    "    while(stack.is_empty() == False):\n",
    "        temp = stack.pop()\n",
    "        while(sorted_stack.is_empty() == False and sorted_stack.peek() > temp):\n",
    "                stack.push(sorted_stack.pop())\n",
    "        sorted_stack.push(temp)\n",
    "    while(sorted_stack.is_empty() == False):\n",
    "        stack.push(sorted_stack.pop())\n",
    "    return stack "
   ]
  }
 ],
 "metadata": {
  "kernelspec": {
   "display_name": "Python 3",
   "language": "python",
   "name": "python3"
  },
  "language_info": {
   "codemirror_mode": {
    "name": "ipython",
    "version": 3
   },
   "file_extension": ".py",
   "mimetype": "text/x-python",
   "name": "python",
   "nbconvert_exporter": "python",
   "pygments_lexer": "ipython3",
   "version": "3.12.3"
  }
 },
 "nbformat": 4,
 "nbformat_minor": 2
}
