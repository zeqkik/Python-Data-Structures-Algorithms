{
 "cells": [
  {
   "cell_type": "markdown",
   "metadata": {},
   "source": [
    "## Queue Using Stacks: Enqueue and Dequeue ##\n",
    "\n",
    "You are given a class MyQueue which implements a queue using two stacks. Your task is to implement the enqueue method which should add an element to the back of the queue.\n",
    "\n",
    "To achieve this, you can use the two stacks stack1 and stack2. \n",
    "\n",
    "You have been tasked with implementing a queue data structure using two stacks in Python, and you need to write the dequeue method.\n",
    "\n",
    "The dequeue method should remove and return the first element in the queue."
   ]
  },
  {
   "cell_type": "code",
   "execution_count": 12,
   "metadata": {},
   "outputs": [],
   "source": [
    "class MyQueue:\n",
    "    def __init__(self):\n",
    "        self.stack1 = []\n",
    "        self.stack2 = []\n",
    "        \n",
    "    def enqueue(self, value):\n",
    "        while(len(self.stack1) != 0):\n",
    "            self.stack2.append(self.stack1.pop())\n",
    "        self.stack1.append(value)\n",
    "        while(len(self.stack2) != 0):\n",
    "            self.stack1.append(self.stack2.pop())\n",
    "            \n",
    "    def dequeue(self):\n",
    "        if len(self.stack1) == 0:\n",
    "            return None\n",
    "        temp = self.stack1.pop()\n",
    "        return temp\n",
    "    \n",
    "    def peek(self):\n",
    "        return self.stack1[-1]\n",
    "    \n",
    "    def is_empty(self):\n",
    "        return len(self.stack1) == 0"
   ]
  },
  {
   "cell_type": "code",
   "execution_count": 13,
   "metadata": {},
   "outputs": [
    {
     "name": "stdout",
     "output_type": "stream",
     "text": [
      "Front of the queue: 1\n",
      "Is the queue empty? False\n"
     ]
    }
   ],
   "source": [
    "### ENQUEUE OUTPUT ####\n",
    "\n",
    "# Create a new queue\n",
    "q = MyQueue()\n",
    "\n",
    "# Enqueue some values\n",
    "q.enqueue(1)\n",
    "q.enqueue(2)\n",
    "q.enqueue(3)\n",
    "\n",
    "# Output the front of the queue\n",
    "print(\"Front of the queue:\", q.peek())\n",
    "\n",
    "# Check if the queue is empty\n",
    "print(\"Is the queue empty?\", q.is_empty())"
   ]
  },
  {
   "cell_type": "code",
   "execution_count": 14,
   "metadata": {},
   "outputs": [
    {
     "name": "stdout",
     "output_type": "stream",
     "text": [
      "Front of the queue: 1\n",
      "Dequeued value: 1\n",
      "Dequeued value: 2\n",
      "Front of the queue: 3\n",
      "Dequeued value: 3\n",
      "Dequeued value: 4\n",
      "Is the queue empty? True\n",
      "Dequeued value from empty queue: None\n"
     ]
    }
   ],
   "source": [
    "##### DEQUEUE DEBUG ####\n",
    "\n",
    "# Create a new queue\n",
    "q = MyQueue()\n",
    "\n",
    "# Enqueue some values\n",
    "q.enqueue(1)\n",
    "q.enqueue(2)\n",
    "q.enqueue(3)\n",
    "\n",
    "# Output the front of the queue\n",
    "print(\"Front of the queue:\", q.peek())\n",
    "\n",
    "# Dequeue some values\n",
    "print(\"Dequeued value:\", q.dequeue())\n",
    "print(\"Dequeued value:\", q.dequeue())\n",
    "\n",
    "# Enqueue another value\n",
    "q.enqueue(4)\n",
    "\n",
    "# Output the front of the queue again\n",
    "print(\"Front of the queue:\", q.peek())\n",
    "\n",
    "# Dequeue all remaining values\n",
    "print(\"Dequeued value:\", q.dequeue())\n",
    "print(\"Dequeued value:\", q.dequeue())\n",
    "\n",
    "# Check if the queue is empty\n",
    "print(\"Is the queue empty?\", q.is_empty())\n",
    "\n",
    "# Dequeue from an empty queue and check if it returns None\n",
    "print(\"Dequeued value from empty queue:\", q.dequeue())"
   ]
  },
  {
   "cell_type": "code",
   "execution_count": null,
   "metadata": {},
   "outputs": [],
   "source": []
  }
 ],
 "metadata": {
  "kernelspec": {
   "display_name": "Python 3",
   "language": "python",
   "name": "python3"
  },
  "language_info": {
   "codemirror_mode": {
    "name": "ipython",
    "version": 3
   },
   "file_extension": ".py",
   "mimetype": "text/x-python",
   "name": "python",
   "nbconvert_exporter": "python",
   "pygments_lexer": "ipython3",
   "version": "3.12.3"
  }
 },
 "nbformat": 4,
 "nbformat_minor": 2
}
