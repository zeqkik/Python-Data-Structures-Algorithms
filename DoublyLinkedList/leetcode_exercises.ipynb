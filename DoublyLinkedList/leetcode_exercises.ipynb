{
 "cells": [
  {
   "cell_type": "markdown",
   "metadata": {},
   "source": [
    "## DLL: Swap First and Last ##\n",
    "Swap the values of the first and last node\n",
    "\n"
   ]
  },
  {
   "cell_type": "code",
   "execution_count": 24,
   "metadata": {},
   "outputs": [
    {
     "data": {
      "text/plain": [
       "True"
      ]
     },
     "execution_count": 24,
     "metadata": {},
     "output_type": "execute_result"
    }
   ],
   "source": [
    "from DoublyLinkedList import DoublyLinkedList\n",
    "\n",
    "dll = DoublyLinkedList(1)\n",
    "dll.append(2)\n",
    "dll.append(3)\n",
    "dll.append(4)\n"
   ]
  },
  {
   "cell_type": "code",
   "execution_count": 25,
   "metadata": {},
   "outputs": [],
   "source": [
    "def swap_first_last(dll):\n",
    "    if dll.head is None:\n",
    "        return None\n",
    "    first = dll.head.value\n",
    "    last = dll.tail.value\n",
    "    dll.head.value = last\n",
    "    dll.tail.value = first"
   ]
  },
  {
   "cell_type": "code",
   "execution_count": 26,
   "metadata": {},
   "outputs": [],
   "source": [
    "swap_first_last(dll)"
   ]
  },
  {
   "cell_type": "code",
   "execution_count": 27,
   "metadata": {},
   "outputs": [
    {
     "name": "stdout",
     "output_type": "stream",
     "text": [
      "4\n",
      "2\n",
      "3\n",
      "1\n"
     ]
    }
   ],
   "source": [
    "dll.print_list()"
   ]
  },
  {
   "cell_type": "markdown",
   "metadata": {},
   "source": [
    "## DLL: Reverse ##\n",
    "\n",
    "Create a new method called reverse that reverses the order of the nodes in the list, i.e., the first node becomes the last node, the second node becomes the second-to-last node, and so on.\n",
    "\n",
    "To do this, you'll need to traverse the list and change the direction of the pointers between the nodes so that they point in the opposite direction.\n",
    "\n",
    "Do not change the value of any of the nodes.\n",
    "\n",
    "Once you've done this for all nodes, you'll also need to update the head and tail pointers to reflect the new order of the nodes.\n",
    "\n",
    "Pseudo-code can be found under \"Hints\" (above).\n"
   ]
  },
  {
   "cell_type": "code",
   "execution_count": null,
   "metadata": {},
   "outputs": [],
   "source": [
    "def reverse(dll):\n",
    "    temp = dll.head\n",
    "    dll.head = dll.tail\n",
    "    dll.tail = temp\n",
    "\n",
    "    before = None\n",
    "    for _ in range(dll.length):\n",
    "        after = temp.next\n",
    "        temp.next = before\n",
    "        temp.prev = after\n",
    "        before = temp\n",
    "        temp = after"
   ]
  },
  {
   "cell_type": "markdown",
   "metadata": {},
   "source": [
    "## DLL: Palindrome Checker ##\n",
    "Write a method to determine whether a given doubly linked list reads the same forwards and backwards.\n",
    "\n",
    "For example, if the list contains the values [1, 2, 3, 2, 1], then the method should return True, since the list is a palindrome.\n",
    "\n",
    "If the list contains the values [1, 2, 3, 4, 5], then the method should return False, since the list is not a palindrome."
   ]
  },
  {
   "cell_type": "code",
   "execution_count": null,
   "metadata": {},
   "outputs": [],
   "source": [
    "def is_palindrome(self):\n",
    "    check_ahead = self.head\n",
    "    check_back = self.tail\n",
    "    for _ in range(int(self.length/2)):\n",
    "        if(check_ahead.value != check_back.value):\n",
    "            return False\n",
    "        check_ahead = check_ahead.next\n",
    "        check_back = check_back.prev\n",
    "    return True"
   ]
  },
  {
   "cell_type": "markdown",
   "metadata": {},
   "source": [
    "## DLL: Swap Nodes in Pairs ##\n",
    "\n",
    "You are given a doubly linked list.\n",
    "\n",
    "Implement a method called swap_pairs within the class that swaps the values of adjacent nodes in the linked list. The method should not take any input parameters.\n",
    "\n",
    "Note: This DoublyLinkedList does not have a tail pointer which will make the implementation easier.\n",
    "\n",
    "Example:\n",
    "1 <-> 2 <-> 3 <-> 4 should become 2 <-> 1 <-> 4 <-> 3\n",
    "\n",
    "Your implementation should handle edge cases such as an empty linked list or a linked list with only one node.\n"
   ]
  },
  {
   "cell_type": "code",
   "execution_count": 28,
   "metadata": {},
   "outputs": [],
   "source": [
    "def swap_pairs(dll):\n",
    "    if not dll.head or not dll.head.next:\n",
    "        return\n",
    "    \n",
    "    temp = dll.head\n",
    "\n",
    "    dll.head = temp.next\n",
    "    \n",
    "    while temp and temp.next:\n",
    "        next_node = temp.next\n",
    "        next_next_node = next_node.next\n",
    "\n",
    "        next_node.next = temp\n",
    "        temp.prev = next_node\n",
    "        \n",
    "        if next_next_node:  \n",
    "            next_next_node.prev = temp\n",
    "\n",
    "        temp.next = next_next_node\n",
    "\n",
    "        temp = next_next_node\n",
    "        if temp and temp.next:\n",
    "            temp.prev.next = temp.next"
   ]
  }
 ],
 "metadata": {
  "kernelspec": {
   "display_name": "Python 3",
   "language": "python",
   "name": "python3"
  },
  "language_info": {
   "codemirror_mode": {
    "name": "ipython",
    "version": 3
   },
   "file_extension": ".py",
   "mimetype": "text/x-python",
   "name": "python",
   "nbconvert_exporter": "python",
   "pygments_lexer": "ipython3",
   "version": "3.12.3"
  }
 },
 "nbformat": 4,
 "nbformat_minor": 2
}
