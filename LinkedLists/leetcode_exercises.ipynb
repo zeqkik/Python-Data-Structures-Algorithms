{
 "cells": [
  {
   "cell_type": "code",
   "execution_count": 5,
   "metadata": {},
   "outputs": [],
   "source": [
    "from LinkedList import LinkedList "
   ]
  },
  {
   "cell_type": "markdown",
   "metadata": {},
   "source": [
    "# LL: Find Middle Node\n",
    "\n",
    "Implement the find_middle_node method for the LinkedList class.\n",
    "\n",
    "Note: this LinkedList implementation does not have a length member variable.\n",
    "\n",
    "If the linked list has an even number of nodes, return the first node of the second half of the list.\n",
    "\n",
    "Keep in mind the following requirements:\n",
    "- The method should use a two-pointer approach, where one pointer (slow) moves one node at a time and the other pointer (fast) moves two nodes at a time.\n",
    "- When the fast pointer reaches the end of the list or has no next node, the slow pointer should be at the middle node of the list.\n",
    "- The method should return the middle node or the first node of the second half of the list if the list has an even number of nodes.\n",
    "- The method should only traverse the linked list once.  In other words, you can only use one loop."
   ]
  },
  {
   "cell_type": "code",
   "execution_count": 1,
   "metadata": {},
   "outputs": [
    {
     "name": "stdout",
     "output_type": "stream",
     "text": [
      "1\n",
      "2\n",
      "3\n",
      "4\n",
      "5\n",
      "6\n",
      "7\n",
      "\n",
      "\n",
      "4\n"
     ]
    }
   ],
   "source": [
    "my_linked_list = LinkedList(1)\n",
    "my_linked_list.append(2)\n",
    "my_linked_list.append(3)\n",
    "my_linked_list.append(4)\n",
    "my_linked_list.append(5)\n",
    "my_linked_list.append(6)\n",
    "my_linked_list.append(7)\n",
    "my_linked_list.print_list()\n",
    "print(\"\\n\")\n",
    "print(my_linked_list.find_middle_node().value)"
   ]
  },
  {
   "cell_type": "code",
   "execution_count": 3,
   "metadata": {},
   "outputs": [
    {
     "name": "stdout",
     "output_type": "stream",
     "text": [
      "1\n",
      "2\n",
      "3\n",
      "4\n",
      "5\n",
      "6\n",
      "\n",
      "\n",
      "4\n"
     ]
    }
   ],
   "source": [
    "my_linked_list = LinkedList(1)\n",
    "my_linked_list.append(2)\n",
    "my_linked_list.append(3)\n",
    "my_linked_list.append(4)\n",
    "my_linked_list.append(5)\n",
    "my_linked_list.append(6)\n",
    "my_linked_list.print_list()\n",
    "print(\"\\n\")\n",
    "print(my_linked_list.find_middle_node().value)"
   ]
  },
  {
   "cell_type": "markdown",
   "metadata": {},
   "source": [
    "# LL: Has Loop \n",
    "Write a method called has_loop that is part of the linked list class.\n",
    "\n",
    "The method should be able to detect if there is a cycle or loop present in the linked list.\n",
    "\n",
    "You are required to use Floyd's cycle-finding algorithm (also known as the \"tortoise and the hare\" algorithm) to detect the loop.\n",
    "\n",
    "This algorithm uses two pointers: a slow pointer and a fast pointer. The slow pointer moves one step at a time, while the fast pointer moves two steps at a time. If there is a loop in the linked list, the two pointers will eventually meet at some point. If there is no loop, the fast pointer will reach the end of the list.\n",
    "\n",
    "The method should follow these guidelines:\n",
    "\n",
    "- Create two pointers, slow and fast, both initially pointing to the head of the linked list.\n",
    "- Traverse the list with the slow pointer moving one step at a time, while the fast pointer moves two steps at a time.\n",
    "- If there is a loop in the list, the fast pointer will eventually meet the slow pointer. If this occurs, the method should return True.\n",
    "- If the fast pointer reaches the end of the list or encounters a None value, it means there is no loop in the list. In this case, the method should return False."
   ]
  },
  {
   "cell_type": "code",
   "execution_count": 4,
   "metadata": {},
   "outputs": [
    {
     "name": "stdout",
     "output_type": "stream",
     "text": [
      "True\n",
      "False\n"
     ]
    },
    {
     "data": {
      "text/plain": [
       "'\\n    EXPECTED OUTPUT:\\n    ----------------\\n    True\\n    False\\n    \\n'"
      ]
     },
     "execution_count": 4,
     "metadata": {},
     "output_type": "execute_result"
    }
   ],
   "source": [
    "my_linked_list_1 = LinkedList(1)\n",
    "my_linked_list_1.append(2)\n",
    "my_linked_list_1.append(3)\n",
    "my_linked_list_1.append(4)\n",
    "my_linked_list_1.tail.next = my_linked_list_1.head\n",
    "print(my_linked_list_1.has_loop() ) # Returns True\n",
    "\n",
    "\n",
    "\n",
    "\n",
    "my_linked_list_2 = LinkedList(1)\n",
    "my_linked_list_2.append(2)\n",
    "my_linked_list_2.append(3)\n",
    "my_linked_list_2.append(4)\n",
    "print(my_linked_list_2.has_loop() ) # Returns False\n",
    "\n",
    "\n",
    "\n",
    "\"\"\"\n",
    "    EXPECTED OUTPUT:\n",
    "    ----------------\n",
    "    True\n",
    "    False\n",
    "    \n",
    "\"\"\""
   ]
  },
  {
   "cell_type": "markdown",
   "metadata": {},
   "source": [
    "# LL: Find Kth Node From End \n",
    "Implement the find_kth_from_end function, which takes the LinkedList (ll) and an integer k as input, and returns the k-th node from the end of the linked list WITHOUT USING LENGTH.\n",
    "\n",
    "Given this LinkedList:\n",
    "\n",
    "1 -> 2 -> 3 -> 4\n",
    "\n",
    "- If k=1 then return the first node from the end (the last node) which contains the value of 4.\n",
    "\n",
    "- If k=2 then return the second node from the end which contains the value of 3, etc.\n",
    "\n",
    "- If the index is out of bounds, the program should return None."
   ]
  },
  {
   "cell_type": "code",
   "execution_count": 6,
   "metadata": {},
   "outputs": [],
   "source": [
    "def find_kth_from_end(linkedlist, k):\n",
    "    slow = linkedlist.head\n",
    "    fast = linkedlist.head\n",
    "    \n",
    "    for _ in range(k-1):\n",
    "        fast = fast.next\n",
    "        if fast == None:\n",
    "            return None\n",
    "    while(fast.next is not None):\n",
    "        fast = fast.next \n",
    "        slow = slow.next\n",
    "    return slow"
   ]
  },
  {
   "cell_type": "code",
   "execution_count": 8,
   "metadata": {},
   "outputs": [
    {
     "name": "stdout",
     "output_type": "stream",
     "text": [
      "5\n"
     ]
    }
   ],
   "source": [
    "my_linked_list = LinkedList(1)\n",
    "my_linked_list.append(2)\n",
    "my_linked_list.append(3)\n",
    "my_linked_list.append(4)\n",
    "my_linked_list.append(5)\n",
    "\n",
    "\n",
    "k = 1\n",
    "result = find_kth_from_end(my_linked_list, k)\n",
    "\n",
    "print(result.value)  # Output: 4"
   ]
  },
  {
   "cell_type": "markdown",
   "metadata": {},
   "source": [
    "# LL: Partition List ( **Interview Question**)\n",
    "\n",
    "\n",
    "The function partition_list takes an integer x as a parameter and modifies the current linked list in place according to the specified criteria. If the linked list is empty (i.e., head is null), the function should return immediately without making any changes.\n"
   ]
  },
  {
   "cell_type": "code",
   "execution_count": 126,
   "metadata": {},
   "outputs": [
    {
     "name": "stdout",
     "output_type": "stream",
     "text": [
      "3\n",
      "8\n",
      "5\n",
      "10\n",
      "2\n",
      "1\n"
     ]
    }
   ],
   "source": [
    "ll = LinkedList(3)\n",
    "ll.append(8)\n",
    "ll.append(5)\n",
    "ll.append(10)\n",
    "ll.append(2)\n",
    "ll.append(1)\n",
    "\n",
    "def partition_list(ll, x):\n",
    "    comp = ll.head\n",
    "    h1 = t1 = None\n",
    "    h2 = t2 = None\n",
    "    \n",
    "    while comp:\n",
    "        next_node = comp.next  \n",
    "        comp.next = None  \n",
    "        \n",
    "        if comp.value < x:\n",
    "            if not h1:\n",
    "                h1 = t1 = comp\n",
    "            else:\n",
    "                t1.next = comp\n",
    "                t1 = comp\n",
    "        else:\n",
    "            if not h2:\n",
    "                h2 = t2 = comp\n",
    "            else:\n",
    "                t2.next = comp\n",
    "                t2 = comp\n",
    "                \n",
    "        comp = next_node\n",
    "    \n",
    "    if t1:\n",
    "        t1.next = h2  # Link the two sublists\n",
    "    else:\n",
    "        h1 = h2  # If first part is empty, head is the second part\n",
    "    \n",
    "    ll.head = h1  # Update the head of the linked list\n",
    "    return ll\n",
    "\n",
    "partition_list(ll,1).print_list()"
   ]
  },
  {
   "cell_type": "markdown",
   "metadata": {},
   "source": [
    "# LL: Remove Duplicates \n",
    "\n",
    "Your task is to implement a method called remove_duplicates() within the LinkedList class that removes all duplicate values from the list.\n",
    "\n",
    "Your method should not create a new list, but rather modify the existing list in-place, preserving the relative order of the nodes."
   ]
  },
  {
   "cell_type": "code",
   "execution_count": 85,
   "metadata": {},
   "outputs": [
    {
     "name": "stdout",
     "output_type": "stream",
     "text": [
      "1\n",
      "2\n",
      "3\n",
      "1\n",
      "4\n",
      "2\n",
      "5\n"
     ]
    }
   ],
   "source": [
    "#1 -> 2 -> 3 -> 1 -> 4 -> 2 -> 5\n",
    "ll = LinkedList(1)\n",
    "ll.append(2)\n",
    "ll.append(3)\n",
    "ll.append(1)\n",
    "ll.append(4)\n",
    "ll.append(2)\n",
    "ll.append(5)\n",
    "ll.print_list()"
   ]
  },
  {
   "cell_type": "code",
   "execution_count": 86,
   "metadata": {},
   "outputs": [],
   "source": [
    "def remove_duplicates(ll):\n",
    "    temp = ll.head\n",
    "    values = set()\n",
    "    while temp is not None:\n",
    "        value = temp.value\n",
    "        if(temp.value in values): #Time complexity to find in set is O(1)\n",
    "            pre.next = temp.next\n",
    "            temp.next = None\n",
    "            temp = pre.next \n",
    "        else:\n",
    "            pre = temp\n",
    "            temp = temp.next\n",
    "            values.add(value)\n",
    "    return ll"
   ]
  },
  {
   "cell_type": "code",
   "execution_count": 87,
   "metadata": {},
   "outputs": [
    {
     "data": {
      "text/plain": [
       "<LinkedList.LinkedList at 0x117a65430>"
      ]
     },
     "execution_count": 87,
     "metadata": {},
     "output_type": "execute_result"
    }
   ],
   "source": [
    "remove_duplicates(ll)\n",
    "ll.print_list()"
   ]
  },
  {
   "cell_type": "markdown",
   "metadata": {},
   "source": [
    "# LL: Binary to Decimal\n",
    "\n",
    "Your task is to implement the binary_to_decimal method for the LinkedList class. This method should convert a binary number, represented as a linked list, to its decimal equivalent.\n",
    "In this context, a binary number is a sequence of 0s and 1s. The LinkedList class represents this binary number such that each node in the linked list contains a single digit (0 or 1) of the binary number, and the whole number is formed by traversing the linked list from the head to the end.\n"
   ]
  },
  {
   "cell_type": "code",
   "execution_count": null,
   "metadata": {},
   "outputs": [],
   "source": [
    "# 1101\n",
    "# 3210\n",
    "# =2**3+2**2+0*2**1+2**0 =8+4+1 = 13\n"
   ]
  },
  {
   "cell_type": "code",
   "execution_count": 95,
   "metadata": {},
   "outputs": [],
   "source": [
    "def binary_to_decimal(ll):\n",
    "    temp = ll.head\n",
    "    decimal = 0\n",
    "    index = 1\n",
    "    while temp:\n",
    "        decimal += temp.value*(2**(ll.length-index))\n",
    "        index+=1\n",
    "        temp = temp.next\n",
    "    return decimal"
   ]
  },
  {
   "cell_type": "code",
   "execution_count": 100,
   "metadata": {},
   "outputs": [
    {
     "data": {
      "text/plain": [
       "True"
      ]
     },
     "execution_count": 100,
     "metadata": {},
     "output_type": "execute_result"
    }
   ],
   "source": [
    "linked_list = LinkedList(1)\n",
    "linked_list.append(1)\n",
    "linked_list.append(0)\n",
    "linked_list.append(1)"
   ]
  },
  {
   "cell_type": "code",
   "execution_count": 101,
   "metadata": {},
   "outputs": [
    {
     "name": "stdout",
     "output_type": "stream",
     "text": [
      "13\n"
     ]
    }
   ],
   "source": [
    "print(binary_to_decimal(linked_list))"
   ]
  },
  {
   "cell_type": "markdown",
   "metadata": {},
   "source": [
    "# LL: Reverse Between \n",
    "You are given a singly linked list and two integers start_index and end_index.\n",
    "\n",
    "Your task is to write a method reverse_between within the LinkedList class that reverses the nodes of the linked list from start_index to  end_index (inclusive using 0-based indexing) in one pass and in-place.<p>\n",
    "**Assumption**: You can assume that start_index and end_index are not out of bounds.<p>\n",
    "**Constraints**:The algorithm should run in one pass and in-place, with a time complexity of O(n) and a space complexity of O(1)."
   ]
  },
  {
   "cell_type": "code",
   "execution_count": 23,
   "metadata": {},
   "outputs": [
    {
     "name": "stdout",
     "output_type": "stream",
     "text": [
      "1\n",
      "2\n",
      "3\n",
      "4\n",
      "5\n",
      "6\n"
     ]
    }
   ],
   "source": [
    "ll = LinkedList(1)\n",
    "ll.append(2)\n",
    "ll.append(3)\n",
    "ll.append(4)\n",
    "ll.append(5)\n",
    "ll.append(6)\n",
    "ll.print_list()"
   ]
  },
  {
   "cell_type": "code",
   "execution_count": 34,
   "metadata": {},
   "outputs": [],
   "source": [
    "def reverse_between(ll, start_index, end_index):\n",
    "    start = ll.head\n",
    "    end = ll.head\n",
    "    pre_start = None\n",
    "    post_end = None\n",
    "    for _ in range(start_index):\n",
    "        pre_start = start\n",
    "        start = start.next\n",
    "    for _ in range(end_index):\n",
    "        end = end.next\n",
    "        if end.next == None:\n",
    "            post_end = None\n",
    "        else:\n",
    "            post_end = end.next\n",
    "\n",
    "    inverter = start\n",
    "\n",
    "    before = post_end \n",
    "    while inverter != post_end:\n",
    "        after = inverter.next \n",
    "        inverter.next = before \n",
    "        before = inverter \n",
    "        inverter = after \n",
    "    if(start_index != 0):\n",
    "        pre_start.next = end   \n",
    "    else:\n",
    "        ll.head = end     \n"
   ]
  },
  {
   "cell_type": "code",
   "execution_count": 36,
   "metadata": {},
   "outputs": [
    {
     "name": "stdout",
     "output_type": "stream",
     "text": [
      "Original linked list: \n",
      "1\n",
      "2\n",
      "3\n",
      "4\n",
      "5\n",
      "Reversed sublist (2, 4): \n",
      "1\n",
      "2\n",
      "5\n",
      "4\n",
      "3\n",
      "Reversed entire linked list: \n",
      "3\n",
      "4\n",
      "5\n",
      "2\n",
      "1\n",
      "Reversed sublist of length 1 (3, 3): \n",
      "3\n",
      "4\n",
      "5\n",
      "2\n",
      "1\n"
     ]
    }
   ],
   "source": [
    "linked_list = LinkedList(1)\n",
    "linked_list.append(2)\n",
    "linked_list.append(3)\n",
    "linked_list.append(4)\n",
    "linked_list.append(5)\n",
    "\n",
    "print(\"Original linked list: \")\n",
    "linked_list.print_list()\n",
    "\n",
    "# Reverse a sublist within the linked list\n",
    "reverse_between(linked_list,2, 4)\n",
    "print(\"Reversed sublist (2, 4): \")\n",
    "linked_list.print_list()\n",
    "\n",
    "# Reverse another sublist within the linked list\n",
    "reverse_between(linked_list, 0, 4)\n",
    "print(\"Reversed entire linked list: \")\n",
    "linked_list.print_list()\n",
    "\n",
    "# Reverse a sublist of length 1 within the linked list\n",
    "reverse_between(linked_list,3, 3)\n",
    "print(\"Reversed sublist of length 1 (3, 3): \")\n",
    "linked_list.print_list()"
   ]
  },
  {
   "cell_type": "code",
   "execution_count": null,
   "metadata": {},
   "outputs": [],
   "source": []
  }
 ],
 "metadata": {
  "kernelspec": {
   "display_name": "Python 3",
   "language": "python",
   "name": "python3"
  },
  "language_info": {
   "codemirror_mode": {
    "name": "ipython",
    "version": 3
   },
   "file_extension": ".py",
   "mimetype": "text/x-python",
   "name": "python",
   "nbconvert_exporter": "python",
   "pygments_lexer": "ipython3",
   "version": "3.12.3"
  }
 },
 "nbformat": 4,
 "nbformat_minor": 2
}
