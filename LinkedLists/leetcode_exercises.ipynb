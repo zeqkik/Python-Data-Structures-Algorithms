{
 "cells": [
  {
   "cell_type": "markdown",
   "metadata": {},
   "source": [
    "# LL: Find Middle Node ( **Interview Question**)\n",
    "Implement the find_middle_node method for the LinkedList class.\n",
    "\n",
    "Note: this LinkedList implementation does not have a length member variable.\n",
    "\n",
    "If the linked list has an even number of nodes, return the first node of the second half of the list.\n",
    "\n",
    "Keep in mind the following requirements:\n",
    "- The method should use a two-pointer approach, where one pointer (slow) moves one node at a time and the other pointer (fast) moves two nodes at a time.\n",
    "- When the fast pointer reaches the end of the list or has no next node, the slow pointer should be at the middle node of the list.\n",
    "- The method should return the middle node or the first node of the second half of the list if the list has an even number of nodes.\n",
    "- The method should only traverse the linked list once.  In other words, you can only use one loop."
   ]
  },
  {
   "cell_type": "code",
   "execution_count": 1,
   "metadata": {},
   "outputs": [
    {
     "name": "stdout",
     "output_type": "stream",
     "text": [
      "1\n",
      "2\n",
      "3\n",
      "4\n",
      "5\n",
      "6\n",
      "7\n",
      "\n",
      "\n",
      "4\n"
     ]
    }
   ],
   "source": [
    "from LinkedList import LinkedList #find_middle_node is implemented on LinkedList\n",
    "\n",
    "my_linked_list = LinkedList(1)\n",
    "my_linked_list.append(2)\n",
    "my_linked_list.append(3)\n",
    "my_linked_list.append(4)\n",
    "my_linked_list.append(5)\n",
    "my_linked_list.append(6)\n",
    "my_linked_list.append(7)\n",
    "my_linked_list.print_list()\n",
    "print(\"\\n\")\n",
    "print(my_linked_list.find_middle_node().value)"
   ]
  },
  {
   "cell_type": "code",
   "execution_count": 3,
   "metadata": {},
   "outputs": [
    {
     "name": "stdout",
     "output_type": "stream",
     "text": [
      "1\n",
      "2\n",
      "3\n",
      "4\n",
      "5\n",
      "6\n",
      "\n",
      "\n",
      "4\n"
     ]
    }
   ],
   "source": [
    "my_linked_list = LinkedList(1)\n",
    "my_linked_list.append(2)\n",
    "my_linked_list.append(3)\n",
    "my_linked_list.append(4)\n",
    "my_linked_list.append(5)\n",
    "my_linked_list.append(6)\n",
    "my_linked_list.print_list()\n",
    "print(\"\\n\")\n",
    "print(my_linked_list.find_middle_node().value)"
   ]
  },
  {
   "cell_type": "markdown",
   "metadata": {},
   "source": [
    "# LL: Has Loop ( **Interview Question**)\n",
    "Write a method called has_loop that is part of the linked list class.\n",
    "\n",
    "The method should be able to detect if there is a cycle or loop present in the linked list.\n",
    "\n",
    "You are required to use Floyd's cycle-finding algorithm (also known as the \"tortoise and the hare\" algorithm) to detect the loop.\n",
    "\n",
    "This algorithm uses two pointers: a slow pointer and a fast pointer. The slow pointer moves one step at a time, while the fast pointer moves two steps at a time. If there is a loop in the linked list, the two pointers will eventually meet at some point. If there is no loop, the fast pointer will reach the end of the list.\n",
    "\n",
    "The method should follow these guidelines:\n",
    "\n",
    "- Create two pointers, slow and fast, both initially pointing to the head of the linked list.\n",
    "- Traverse the list with the slow pointer moving one step at a time, while the fast pointer moves two steps at a time.\n",
    "- If there is a loop in the list, the fast pointer will eventually meet the slow pointer. If this occurs, the method should return True.\n",
    "- If the fast pointer reaches the end of the list or encounters a None value, it means there is no loop in the list. In this case, the method should return False."
   ]
  },
  {
   "cell_type": "code",
   "execution_count": 4,
   "metadata": {},
   "outputs": [
    {
     "name": "stdout",
     "output_type": "stream",
     "text": [
      "True\n",
      "False\n"
     ]
    },
    {
     "data": {
      "text/plain": [
       "'\\n    EXPECTED OUTPUT:\\n    ----------------\\n    True\\n    False\\n    \\n'"
      ]
     },
     "execution_count": 4,
     "metadata": {},
     "output_type": "execute_result"
    }
   ],
   "source": [
    "my_linked_list_1 = LinkedList(1)\n",
    "my_linked_list_1.append(2)\n",
    "my_linked_list_1.append(3)\n",
    "my_linked_list_1.append(4)\n",
    "my_linked_list_1.tail.next = my_linked_list_1.head\n",
    "print(my_linked_list_1.has_loop() ) # Returns True\n",
    "\n",
    "\n",
    "\n",
    "\n",
    "my_linked_list_2 = LinkedList(1)\n",
    "my_linked_list_2.append(2)\n",
    "my_linked_list_2.append(3)\n",
    "my_linked_list_2.append(4)\n",
    "print(my_linked_list_2.has_loop() ) # Returns False\n",
    "\n",
    "\n",
    "\n",
    "\"\"\"\n",
    "    EXPECTED OUTPUT:\n",
    "    ----------------\n",
    "    True\n",
    "    False\n",
    "    \n",
    "\"\"\""
   ]
  },
  {
   "cell_type": "markdown",
   "metadata": {},
   "source": [
    "# LL: Find Kth Node From End ( ** Interview Question)\n",
    "Implement the find_kth_from_end function, which takes the LinkedList (ll) and an integer k as input, and returns the k-th node from the end of the linked list WITHOUT USING LENGTH.\n",
    "\n",
    "Given this LinkedList:\n",
    "\n",
    "1 -> 2 -> 3 -> 4\n",
    "\n",
    "- If k=1 then return the first node from the end (the last node) which contains the value of 4.\n",
    "\n",
    "- If k=2 then return the second node from the end which contains the value of 3, etc.\n",
    "\n",
    "- If the index is out of bounds, the program should return None."
   ]
  },
  {
   "cell_type": "code",
   "execution_count": 6,
   "metadata": {},
   "outputs": [],
   "source": [
    "def find_kth_from_end(linkedlist, k):\n",
    "    slow = linkedlist.head\n",
    "    fast = linkedlist.head\n",
    "    \n",
    "    for _ in range(k-1):\n",
    "        fast = fast.next\n",
    "        if fast == None:\n",
    "            return None\n",
    "    while(fast.next is not None):\n",
    "        fast = fast.next \n",
    "        slow = slow.next\n",
    "    return slow"
   ]
  },
  {
   "cell_type": "code",
   "execution_count": 8,
   "metadata": {},
   "outputs": [
    {
     "name": "stdout",
     "output_type": "stream",
     "text": [
      "5\n"
     ]
    }
   ],
   "source": [
    "my_linked_list = LinkedList(1)\n",
    "my_linked_list.append(2)\n",
    "my_linked_list.append(3)\n",
    "my_linked_list.append(4)\n",
    "my_linked_list.append(5)\n",
    "\n",
    "\n",
    "k = 1\n",
    "result = find_kth_from_end(my_linked_list, k)\n",
    "\n",
    "print(result.value)  # Output: 4"
   ]
  },
  {
   "cell_type": "markdown",
   "metadata": {},
   "source": [
    "# LL: Partition List ( **Interview Question**)\n",
    "\n",
    "\n",
    "The function partition_list takes an integer x as a parameter and modifies the current linked list in place according to the specified criteria. If the linked list is empty (i.e., head is null), the function should return immediately without making any changes.\n"
   ]
  },
  {
   "cell_type": "code",
   "execution_count": 126,
   "metadata": {},
   "outputs": [
    {
     "name": "stdout",
     "output_type": "stream",
     "text": [
      "3\n",
      "8\n",
      "5\n",
      "10\n",
      "2\n",
      "1\n"
     ]
    }
   ],
   "source": [
    "ll = LinkedList(3)\n",
    "ll.append(8)\n",
    "ll.append(5)\n",
    "ll.append(10)\n",
    "ll.append(2)\n",
    "ll.append(1)\n",
    "\n",
    "def partition_list(ll, x):\n",
    "    comp = ll.head\n",
    "    h1 = t1 = None\n",
    "    h2 = t2 = None\n",
    "    \n",
    "    while comp:\n",
    "        next_node = comp.next  \n",
    "        comp.next = None  \n",
    "        \n",
    "        if comp.value < x:\n",
    "            if not h1:\n",
    "                h1 = t1 = comp\n",
    "            else:\n",
    "                t1.next = comp\n",
    "                t1 = comp\n",
    "        else:\n",
    "            if not h2:\n",
    "                h2 = t2 = comp\n",
    "            else:\n",
    "                t2.next = comp\n",
    "                t2 = comp\n",
    "                \n",
    "        comp = next_node\n",
    "    \n",
    "    if t1:\n",
    "        t1.next = h2  # Link the two sublists\n",
    "    else:\n",
    "        h1 = h2  # If first part is empty, head is the second part\n",
    "    \n",
    "    ll.head = h1  # Update the head of the linked list\n",
    "    return ll\n",
    "\n",
    "partition_list(ll,1).print_list()"
   ]
  },
  {
   "cell_type": "code",
   "execution_count": null,
   "metadata": {},
   "outputs": [],
   "source": []
  }
 ],
 "metadata": {
  "kernelspec": {
   "display_name": "Python 3",
   "language": "python",
   "name": "python3"
  },
  "language_info": {
   "codemirror_mode": {
    "name": "ipython",
    "version": 3
   },
   "file_extension": ".py",
   "mimetype": "text/x-python",
   "name": "python",
   "nbconvert_exporter": "python",
   "pygments_lexer": "ipython3",
   "version": "3.12.3"
  }
 },
 "nbformat": 4,
 "nbformat_minor": 2
}
